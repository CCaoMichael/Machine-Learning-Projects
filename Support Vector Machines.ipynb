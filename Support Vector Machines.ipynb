{
 "cells": [
  {
   "attachments": {},
   "cell_type": "markdown",
   "metadata": {},
   "source": [
    "Support Vector Machines"
   ]
  },
  {
   "cell_type": "code",
   "execution_count": 2,
   "metadata": {},
   "outputs": [
    {
     "name": "stdout",
     "output_type": "stream",
     "text": [
      "SVC()\n",
      "predictions: [2 0 1 1 0 0 1 2 2 1 2 2 2 1 1 2 0 2 2 0 1 1 0 0 2 2 1 1 1 0]\n",
      "actual:  [2 0 1 1 0 0 1 2 2 1 2 2 2 2 1 2 0 2 2 0 2 1 0 0 2 2 1 1 1 0]\n",
      "accuracy: 0.9333333333333333\n",
      "Iris Virginica\n",
      "Iris Setosa\n",
      "Iris Versicolor,\n",
      "Iris Versicolor,\n",
      "Iris Setosa\n",
      "Iris Setosa\n",
      "Iris Versicolor,\n",
      "Iris Virginica\n",
      "Iris Virginica\n",
      "Iris Versicolor,\n",
      "Iris Virginica\n",
      "Iris Virginica\n",
      "Iris Virginica\n",
      "Iris Versicolor,\n",
      "Iris Versicolor,\n",
      "Iris Virginica\n",
      "Iris Setosa\n",
      "Iris Virginica\n",
      "Iris Virginica\n",
      "Iris Setosa\n",
      "Iris Versicolor,\n",
      "Iris Versicolor,\n",
      "Iris Setosa\n",
      "Iris Setosa\n",
      "Iris Virginica\n",
      "Iris Virginica\n",
      "Iris Versicolor,\n",
      "Iris Versicolor,\n",
      "Iris Versicolor,\n",
      "Iris Setosa\n"
     ]
    }
   ],
   "source": [
    "from sklearn import datasets\n",
    "import numpy as np\n",
    "from sklearn.model_selection import train_test_split\n",
    "from sklearn import svm\n",
    "from sklearn.metrics import accuracy_score\n",
    "\n",
    "iris = datasets.load_iris()\n",
    "X = iris.data\n",
    "y = iris.target\n",
    "\n",
    "# We want to make sure that the y (label) prediction has the same shape as the origin X (figure) data\n",
    "# print(X.shape)\n",
    "# print(y.shape)\n",
    "\n",
    "classes = ['Iris Setosa', 'Iris Versicolor,', 'Iris Virginica']\n",
    "\n",
    "\n",
    "X_train, X_test, y_train, y_test = train_test_split(X, y, test_size = 0.2)\n",
    "model = svm.SVC()\n",
    "model.fit(X_train, y_train)\n",
    "print(model)\n",
    "\n",
    "predictions = model.predict(X_test)\n",
    "acc = accuracy_score(y_test, predictions)\n",
    "\n",
    "print('predictions:', predictions)\n",
    "print('actual: ', y_test)\n",
    "print('accuracy:', acc)\n",
    "\n",
    "for i in range(len(predictions)):\n",
    "    print(classes[predictions[i]])"
   ]
  }
 ],
 "metadata": {
  "kernelspec": {
   "display_name": "Python 3",
   "language": "python",
   "name": "python3"
  },
  "language_info": {
   "codemirror_mode": {
    "name": "ipython",
    "version": 3
   },
   "file_extension": ".py",
   "mimetype": "text/x-python",
   "name": "python",
   "nbconvert_exporter": "python",
   "pygments_lexer": "ipython3",
   "version": "3.11.3"
  },
  "orig_nbformat": 4
 },
 "nbformat": 4,
 "nbformat_minor": 2
}
